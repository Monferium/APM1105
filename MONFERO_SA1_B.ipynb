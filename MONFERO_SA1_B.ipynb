{
 "cells": [
  {
   "cell_type": "markdown",
   "metadata": {},
   "source": [
    "### Write a program on the Fibonacci sequence using both iterations and recursion, and including rendering time to compare the performance of both approaches."
   ]
  },
  {
   "cell_type": "code",
   "execution_count": 8,
   "metadata": {},
   "outputs": [
    {
     "name": "stdout",
     "output_type": "stream",
     "text": [
      "Given 1,1,2,3,5... as the starting point of our fibonacci sequence: \n",
      "determine the n_th term you want to discover: 20\n",
      "fibonacci_iterative(0): 0\n",
      "fibonacci_iterative(1): 1\n",
      "fibonacci_iterative(2): 1\n",
      "fibonacci_iterative(3): 2\n",
      "fibonacci_iterative(4): 3\n",
      "fibonacci_iterative(5): 5\n",
      "fibonacci_iterative(6): 8\n",
      "fibonacci_iterative(7): 13\n",
      "fibonacci_iterative(8): 21\n",
      "fibonacci_iterative(9): 34\n",
      "fibonacci_iterative(10): 55\n",
      "fibonacci_iterative(11): 89\n",
      "fibonacci_iterative(12): 144\n",
      "fibonacci_iterative(13): 233\n",
      "fibonacci_iterative(14): 377\n",
      "fibonacci_iterative(15): 610\n",
      "fibonacci_iterative(16): 987\n",
      "fibonacci_iterative(17): 1597\n",
      "fibonacci_iterative(18): 2584\n",
      "fibonacci_iterative(19): 4181\n",
      "fibonacci_iterative(20): 6765\n",
      "fibonacci_recursive(0): 0\n",
      "fibonacci_recursive(1): 1\n",
      "fibonacci_recursive(2): 1\n",
      "fibonacci_recursive(3): 2\n",
      "fibonacci_recursive(4): 3\n",
      "fibonacci_recursive(5): 5\n",
      "fibonacci_recursive(6): 8\n",
      "fibonacci_recursive(7): 13\n",
      "fibonacci_recursive(8): 21\n",
      "fibonacci_recursive(9): 34\n",
      "fibonacci_recursive(10): 55\n",
      "fibonacci_recursive(11): 89\n",
      "fibonacci_recursive(12): 144\n",
      "fibonacci_recursive(13): 233\n",
      "fibonacci_recursive(14): 377\n",
      "fibonacci_recursive(15): 610\n",
      "fibonacci_recursive(16): 987\n",
      "fibonacci_recursive(17): 1597\n",
      "fibonacci_recursive(18): 2584\n",
      "fibonacci_recursive(19): 4181\n",
      "fibonacci_recursive(20): 6765\n"
     ]
    }
   ],
   "source": [
    "import time\n",
    "\n",
    "# Iterative approach\n",
    "def fibonacci_iterative(n):\n",
    "    if n == 0:\n",
    "        return 0\n",
    "    elif n == 1:\n",
    "        return 1\n",
    "    else:\n",
    "        a, b = 0, 1\n",
    "        for i in range(2, n+1):\n",
    "            c = a + b\n",
    "            a = b\n",
    "            b = c\n",
    "        return b\n",
    "\n",
    "# Recursive approach\n",
    "def fibonacci_recursive(n):\n",
    "    if n == 0:\n",
    "        return 0\n",
    "    elif n == 1:\n",
    "        return 1\n",
    "    else:\n",
    "        return fibonacci_recursive(n-1) + fibonacci_recursive(n-2)\n",
    "K = int(input(f\"Given 1,1,2,3,5... as the starting point of our fibonacci sequence: \\ndetermine the n_th term you want to discover: \"))\n",
    "# Compare performance\n",
    "start_time = time.time()\n",
    "for i in range(K+1):\n",
    "    print(f\"fibonacci_iterative({i}): {fibonacci_iterative(i)}\")\n",
    "iterative_time = time.time() - start_time\n",
    "\n",
    "start_time = time.time()\n",
    "for i in range(K+1):\n",
    "    print(f\"fibonacci_recursive({i}): {fibonacci_recursive(i)}\")\n",
    "recursive_time = time.time() - start_time"
   ]
  },
  {
   "cell_type": "code",
   "execution_count": 11,
   "metadata": {},
   "outputs": [
    {
     "name": "stdout",
     "output_type": "stream",
     "text": [
      "Iterative time:  0.0009996891\n",
      "Recursive time:  0.0100078583\n",
      "When the n_th term = 20, the iteration method is much faster than recursive\n"
     ]
    }
   ],
   "source": [
    "print(f\"Iterative time: {iterative_time: 0.10f}\")\n",
    "print(f\"Recursive time: {recursive_time: 0.10f}\")\n",
    "if iterative_time > recursive_time:\n",
    "    print(f\"When the n_th term = {K}, the recursive method is much faster than iteration\")\n",
    "elif iterative_time == recursive_time:\n",
    "    print(f\"Consequently, both methods has finished their task with the same rendered time as when the n_th term = {K}\")\n",
    "else:\n",
    "    print(f\"When the n_th term = {K}, the iteration method is much faster than recursive\")"
   ]
  },
  {
   "attachments": {
    "image.png": {
     "image/png": "[encoded data removed]"
    }
   },
   "cell_type": "markdown",
   "metadata": {},
   "source": [
    "### Seconfd\n",
    "![image.png](attachment:image.png)"
   ]
  },
  {
   "cell_type": "code",
   "execution_count": 42,
   "metadata": {},
   "outputs": [
    {
     "name": "stdout",
     "output_type": "stream",
     "text": [
      "x_0 = 2.000\n",
      "x_1 = 2.154\n",
      "x_2 = 2.097\n",
      "x_3 = 2.119\n",
      "x_4 = 2.111\n",
      "x_5 = 2.114\n",
      "x_6 = 2.113\n",
      "x_7 = 2.113\n"
     ]
    }
   ],
   "source": [
    "# define the function to calculate x_n+1\n",
    "def f(x):\n",
    "    return pow((20 - 5*x), 1/3)\n",
    "\n",
    "# set the initial value of x_0 = 2 (x_i = 2)\n",
    "x = 2\n",
    "i = 0\n",
    "# print the value of x_0\n",
    "print(\"x_0 = {:.3f}\".format(x))\n",
    "\n",
    "# iterate until x_n ≅ x_n-1 at 3 decimal places\n",
    "while True:\n",
    "    # calculate the next value of x_n+1\n",
    "    x_next = f(x)\n",
    "    \n",
    "    # check if x_n and x_n-1 are close enough\n",
    "    if abs(x_next - x) < 0.001:\n",
    "        break\n",
    "    i+=1\n",
    "    # print the value of x_n+1\n",
    "    print(f\"x_{i} = {x_next:.3f}\")\n",
    "    \n",
    "    # set x_n+1 as the new x_n\n",
    "    x = x_next\n",
    "# print the final value of x_n\n",
    "print(\"x_{} = {:.3f}\".format(int(i+1), x_next))"
   ]
  },
  {
   "cell_type": "markdown",
   "metadata": {},
   "source": [
    "#### Since x_6 and x_7 give the same value to 3 decimal places, we can stop the iteration. The solution to the equation is 2.113 to 3 decimal places."
   ]
  }
 ],
 "metadata": {
  "kernelspec": {
   "display_name": "Python 3",
   "language": "python",
   "name": "python3"
  },
  "language_info": {
   "codemirror_mode": {
    "name": "ipython",
    "version": 3
   },
   "file_extension": ".py",
   "mimetype": "text/x-python",
   "name": "python",
   "nbconvert_exporter": "python",
   "pygments_lexer": "ipython3",
   "version": "3.7.0"
  }
 },
 "nbformat": 4,
 "nbformat_minor": 2
}
