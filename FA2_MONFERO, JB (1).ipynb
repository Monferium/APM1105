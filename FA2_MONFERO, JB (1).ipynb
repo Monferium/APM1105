{
 "cells": [
  {
   "cell_type": "markdown",
   "id": "9f7b30dc",
   "metadata": {},
   "source": [
    "# A List Is a Sequence"
   ]
  },
  {
   "cell_type": "markdown",
   "id": "5ef7c2a0",
   "metadata": {},
   "source": [
    "\"Like a string, a list is a sequence of values. In a string, the values are characters; in a list, they can be any type. The values in a list are called elements or sometimes items.\" - Downey\n",
    "\n",
    "Example:\n",
    "\n",
    "a = [1, 2, 3, 4]\n",
    "\n",
    "b = ['James', 'Heraldes']"
   ]
  },
  {
   "cell_type": "markdown",
   "id": "c2358534",
   "metadata": {},
   "source": [
    "# Map, Filter and Reduce"
   ]
  },
  {
   "cell_type": "markdown",
   "id": "e2d1371e",
   "metadata": {},
   "source": [
    "To multiply the all given numbers in a particular list, the concept of looping and creating its own function might aid the problem."
   ]
  },
  {
   "cell_type": "code",
   "execution_count": 31,
   "id": "9f58da9c",
   "metadata": {},
   "outputs": [],
   "source": [
    "#User-defined function for multiplying each elements of a list\n",
    "def multiply_all(l):\n",
    "    m = 1\n",
    "    for x in l:\n",
    "        m*=x\n",
    "    return m"
   ]
  },
  {
   "cell_type": "code",
   "execution_count": 37,
   "id": "f6144714",
   "metadata": {},
   "outputs": [
    {
     "name": "stdout",
     "output_type": "stream",
     "text": [
      "The answer must be -33600\n"
     ]
    }
   ],
   "source": [
    "#Sample\n",
    "\n",
    "Sample_List = [5, 6, -1, 2, 4, -2, -10, 7]\n",
    "print('The answer must be', multiply_all(Sample_List))"
   ]
  },
  {
   "cell_type": "markdown",
   "id": "f4e770e1",
   "metadata": {},
   "source": [
    "# The Repetitive Statement (While and For Loops)\n",
    "Computers are often used to automate repetitive tasks. Repeating identical or similar tasks without making errors is something that computers do well and people do poorly. In a computer program, repetition is also called iteration"
   ]
  },
  {
   "attachments": {
    "function_grid.png": {
     "image/png": "[encoded data removed]"
    }
   },
   "cell_type": "markdown",
   "id": "6f3a42f1",
   "metadata": {},
   "source": [
    "Write a function that draws a grid like the following:\n",
    "![function_grid.png](attachment:function_grid.png)"
   ]
  },
  {
   "cell_type": "code",
   "execution_count": 117,
   "id": "a368a90c",
   "metadata": {},
   "outputs": [
    {
     "name": "stdout",
     "output_type": "stream",
     "text": [
      "\n",
      "\n",
      "\n",
      "\n",
      "\n",
      "+ - - - - + - - - - + - - - - +\n",
      "|         |         |         |\n",
      "|         |         |         |\n",
      "|         |         |         |\n",
      "|         |         |         |\n",
      "+ - - - - + - - - - + - - - - +\n",
      "|         |         |         |\n",
      "|         |         |         |\n",
      "|         |         |         |\n",
      "|         |         |         |\n",
      "+ - - - - + - - - - + - - - - +\n",
      "|         |         |         |\n",
      "|         |         |         |\n",
      "|         |         |         |\n",
      "|         |         |         |\n",
      "+ - - - - + - - - - + - - - -  \b\b+\n",
      "\n",
      "\n",
      "\n",
      "\n",
      "\n",
      "+ - - - - + - - - - + - - - - + - - - - +\n",
      "|         |         |         |         |\n",
      "|         |         |         |         |\n",
      "|         |         |         |         |\n",
      "|         |         |         |         |\n",
      "+ - - - - + - - - - + - - - - + - - - - +\n",
      "|         |         |         |         |\n",
      "|         |         |         |         |\n",
      "|         |         |         |         |\n",
      "|         |         |         |         |\n",
      "+ - - - - + - - - - + - - - - + - - - - +\n",
      "|         |         |         |         |\n",
      "|         |         |         |         |\n",
      "|         |         |         |         |\n",
      "|         |         |         |         |\n",
      "+ - - - - + - - - - + - - - - + - - - - +\n",
      "|         |         |         |         |\n",
      "|         |         |         |         |\n",
      "|         |         |         |         |\n",
      "|         |         |         |         |\n",
      "+ - - - - + - - - - + - - - - + - - - -  \b\b+\n",
      "\n",
      "\n",
      "\n",
      "\n",
      "\n",
      "\n",
      "+ - - - - + - - - - + - - - - + - - - - + - - - - +\n",
      "|         |         |         |         |         |\n",
      "|         |         |         |         |         |\n",
      "|         |         |         |         |         |\n",
      "|         |         |         |         |         |\n",
      "+ - - - - + - - - - + - - - - + - - - - + - - - - +\n",
      "|         |         |         |         |         |\n",
      "|         |         |         |         |         |\n",
      "|         |         |         |         |         |\n",
      "|         |         |         |         |         |\n",
      "+ - - - - + - - - - + - - - - + - - - - + - - - - +\n",
      "|         |         |         |         |         |\n",
      "|         |         |         |         |         |\n",
      "|         |         |         |         |         |\n",
      "|         |         |         |         |         |\n",
      "+ - - - - + - - - - + - - - - + - - - - + - - - - +\n",
      "|         |         |         |         |         |\n",
      "|         |         |         |         |         |\n",
      "|         |         |         |         |         |\n",
      "|         |         |         |         |         |\n",
      "+ - - - - + - - - - + - - - - + - - - - + - - - - +\n",
      "|         |         |         |         |         |\n",
      "|         |         |         |         |         |\n",
      "|         |         |         |         |         |\n",
      "|         |         |         |         |         |\n",
      "+ - - - - + - - - - + - - - - + - - - - + - - - -  \b\b+\n"
     ]
    }
   ],
   "source": [
    "def s_grid(c):\n",
    "    e = 0\n",
    "    while e < c:\n",
    "        a = 0\n",
    "        while a < c:\n",
    "            print(\"+ - - - - \", end = \"\")\n",
    "            a+=1\n",
    "        print(\"+\")\n",
    "        b = 0\n",
    "        while b < 4:\n",
    "            d = 0\n",
    "            while d < c:\n",
    "                print(\"|         \", end = \"\")\n",
    "                d+=1\n",
    "            print(\"|\")\n",
    "            b+=1\n",
    "        e+=1\n",
    "    print(\"+ - - - - \"*c, \"\\b\\b+\")\n",
    "\n",
    "print(\"\\n\"*4)\n",
    "s_grid(3)\n",
    "print(\"\\n\"*4)\n",
    "s_grid(4)\n",
    "print(\"\\n\"*5)\n",
    "s_grid(5)"
   ]
  },
  {
   "cell_type": "code",
   "execution_count": null,
   "id": "66810919",
   "metadata": {},
   "outputs": [],
   "source": []
  }
 ],
 "metadata": {
  "kernelspec": {
   "display_name": "Python 3 (ipykernel)",
   "language": "python",
   "name": "python3"
  },
  "language_info": {
   "codemirror_mode": {
    "name": "ipython",
    "version": 3
   },
   "file_extension": ".py",
   "mimetype": "text/x-python",
   "name": "python",
   "nbconvert_exporter": "python",
   "pygments_lexer": "ipython3",
   "version": "3.11.1"
  }
 },
 "nbformat": 4,
 "nbformat_minor": 5
}
