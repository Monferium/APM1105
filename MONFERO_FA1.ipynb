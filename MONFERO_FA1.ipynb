{
 "cells": [
  {
   "cell_type": "markdown",
   "metadata": {},
   "source": [
    "# Start the Python interpreter and use it as a calculator.\n",
    "How many miles are there in 10 kilometers? Hint: there are 1.61 kilometers in a mile."
   ]
  },
  {
   "cell_type": "code",
   "execution_count": 1,
   "metadata": {},
   "outputs": [
    {
     "name": "stdout",
     "output_type": "stream",
     "text": [
      "Enter Kilometer Value: 10\n",
      "6.2139999999999995 miles\n",
      "Enter Mile Value: 10\n",
      "16.1 kilometer\n"
     ]
    }
   ],
   "source": [
    "kilometer = float(input(\"Enter Kilometer Value: \"))\n",
    "miles = 0.6214 * kilometer\n",
    "print(miles, \"miles\")\n",
    "\n",
    "mile = float(input(\"Enter Mile Value: \"))\n",
    "kilometer = 1.61 * mile\n",
    "print(kilometer, \"kilometer\")"
   ]
  },
  {
   "cell_type": "markdown",
   "metadata": {},
   "source": [
    "How many seconds are there in 42 minutes 42 seconds?"
   ]
  },
  {
   "cell_type": "code",
   "execution_count": 3,
   "metadata": {},
   "outputs": [
    {
     "name": "stdout",
     "output_type": "stream",
     "text": [
      "How many hours? 1\n",
      "How many minutes? 1\n",
      "How many seconds? 1\n",
      "There are 3661.0 seconds overall\n"
     ]
    }
   ],
   "source": [
    "hour = float(input(\"How many hours? \"))\n",
    "minute1 = 60 * hour\n",
    "minute2 = float(input(\"How many minutes? \"))\n",
    "seconds = float(input(\"How many seconds? \"))\n",
    "cummulative_seconds = seconds + (60 * (minute1 + minute2))\n",
    "print(\"There are\", cummulative_seconds, \"seconds overall\")"
   ]
  },
  {
   "cell_type": "markdown",
   "metadata": {},
   "source": [
    "If you run a 10 kilometer race in 42 minutes 42 seconds,\n",
    "What is your average pace (time per mile in minutes and seconds)?\n",
    "What is your average speed in miles per hour?"
   ]
  },
  {
   "cell_type": "code",
   "execution_count": 4,
   "metadata": {},
   "outputs": [
    {
     "name": "stdout",
     "output_type": "stream",
     "text": [
      "How much distance in kilometers for your race? 10\n",
      "How many hours? 0\n",
      "How many minutes? 1\n",
      "How many seconds? 1\n",
      "The average pace per seconds is  0.10186885245901639 miles per seconds while the average pace per minute would be  6.112131147540984 miles per minute\n",
      "The average speed per second is  366.72786885245904 miles per hour\n"
     ]
    }
   ],
   "source": [
    "race_kilometer = float(input(\"How much distance in kilometers for your race? \"))\n",
    "hour = float(input(\"How many hours? \"))\n",
    "minute = float(input(\"How many minutes? \"))\n",
    "seconds = float(input(\"How many seconds? \"))\n",
    "\n",
    "miles = 0.6214 * race_kilometer\n",
    "time_s = seconds + (60 * minute)\n",
    "time_m = (seconds/60) + minute\n",
    "\n",
    "average_pace_s = miles/time_s\n",
    "average_pace_m = miles/time_m\n",
    "\n",
    "print(\"The average pace per seconds is \", average_pace_s, \"miles per seconds while the average pace per minute would be \", average_pace_m, \"miles per minute\")\n",
    "\n",
    "time_h = (seconds/3600) + (minute/60) + hour\n",
    "average_speed = miles/time_h\n",
    "print(\"The average speed per second is \", average_speed, \"miles per hour\")"
   ]
  },
  {
   "cell_type": "code",
   "execution_count": null,
   "metadata": {},
   "outputs": [],
   "source": []
  }
 ],
 "metadata": {
  "kernelspec": {
   "display_name": "Python 3",
   "language": "python",
   "name": "python3"
  },
  "language_info": {
   "codemirror_mode": {
    "name": "ipython",
    "version": 3
   },
   "file_extension": ".py",
   "mimetype": "text/x-python",
   "name": "python",
   "nbconvert_exporter": "python",
   "pygments_lexer": "ipython3",
   "version": "3.7.0"
  }
 },
 "nbformat": 4,
 "nbformat_minor": 2
}
