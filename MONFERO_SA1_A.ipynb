{
 "cells": [
  {
   "cell_type": "markdown",
   "metadata": {},
   "source": [
    "### You can import the words.txt list using requests module by using the following code: "
   ]
  },
  {
   "cell_type": "code",
   "execution_count": 1,
   "metadata": {},
   "outputs": [
    {
     "name": "stdout",
     "output_type": "stream",
     "text": [
      "Dataset saved to file.\n"
     ]
    }
   ],
   "source": [
    "import requests\n",
    "\n",
    "# URL of the raw dataset file on GitHub\n",
    "url = 'https://raw.githubusercontent.com/AllenDowney/ThinkPython2/master/code/words.txt'\n",
    "\n",
    "# Send a GET request to the URL\n",
    "response = requests.get(url)\n",
    "\n",
    "# Check if the request was successful\n",
    "if response.status_code == 200:\n",
    "    # Save the content of the response to a file\n",
    "    with open('words.txt', 'wb') as f:\n",
    "        f.write(response.content)\n",
    "        print('Dataset saved to file.')\n",
    "else:\n",
    "    print('Failed to download dataset.')"
   ]
  },
  {
   "cell_type": "code",
   "execution_count": 9,
   "metadata": {
    "scrolled": true
   },
   "outputs": [],
   "source": [
    "if response.status_code == 200:\n",
    "    # Decode the binary content into a string using UTF-8 encoding\n",
    "    content_str = response.content.decode('utf-8')\n",
    "    # Split the string into a list of lines using the splitlines() method\n",
    "    lines = content_str.splitlines()"
   ]
  },
  {
   "cell_type": "markdown",
   "metadata": {},
   "source": [
    "#### A. Print the total number of words in the file.\n",
    "\n",
    "#### B. Print the longest word in the file.\n",
    "\n",
    "#### C. Print the number of words that start with a certain letter (use user input).\n",
    "\n",
    "#### D. Print all the words that contain a certain substring (use user input).\n",
    "\n",
    "#### E. Print all the words that are palindromes (i.e., read the same backwards and forwards).\n",
    "\n",
    "#### F. Count the frequency of each letter. "
   ]
  },
  {
   "cell_type": "code",
   "execution_count": 10,
   "metadata": {
    "scrolled": true
   },
   "outputs": [
    {
     "name": "stdout",
     "output_type": "stream",
     "text": [
      "Found 113783 words in the lines list that are in the words_to_search list.\n"
     ]
    }
   ],
   "source": [
    "# Count the number of words in the lines list that are in the words_to_search list\n",
    "count = sum(1 for word in lines if word.strip() in lines)\n",
    "print(f\"Found {count} words in the lines list that are in the words_to_search list.\")"
   ]
  },
  {
   "cell_type": "code",
   "execution_count": 11,
   "metadata": {},
   "outputs": [
    {
     "name": "stdout",
     "output_type": "stream",
     "text": [
      "The longest words are: ['counterdemonstrations', 'hyperaggressivenesses', 'microminiaturizations']\n"
     ]
    }
   ],
   "source": [
    "# Find the length of each word and return the maximum length\n",
    "max_length = max(len(word) for word in lines)\n",
    "\n",
    "# Find all words that have the maximum length\n",
    "longest_words = [word for word in lines if len(word) == max_length]\n",
    "\n",
    "print(f\"The longest words are: {longest_words}\")"
   ]
  },
  {
   "cell_type": "code",
   "execution_count": 12,
   "metadata": {},
   "outputs": [
    {
     "name": "stdout",
     "output_type": "stream",
     "text": [
      "Enter a letter: a\n",
      "There are 6557 words that start with the letter 'a'.\n"
     ]
    }
   ],
   "source": [
    "# Ask the user to enter a letter\n",
    "letter = input(\"Enter a letter: \")\n",
    "\n",
    "# Count the number of words that start with the given letter\n",
    "count = sum(1 for word in lines if word.startswith(letter))\n",
    "\n",
    "# Print the result\n",
    "print(f\"There are {count} words that start with the letter '{letter}'.\")"
   ]
  },
  {
   "cell_type": "code",
   "execution_count": 13,
   "metadata": {},
   "outputs": [
    {
     "name": "stdout",
     "output_type": "stream",
     "text": [
      "Enter a substring: love\n",
      "The words that contain the substring 'love' are:\n",
      "allover\n",
      "allovers\n",
      "beloved\n",
      "beloveds\n",
      "clove\n",
      "cloven\n",
      "clover\n",
      "clovers\n",
      "cloves\n",
      "foxglove\n",
      "foxgloves\n",
      "glove\n",
      "gloved\n",
      "glover\n",
      "glovers\n",
      "gloves\n",
      "ladylove\n",
      "ladyloves\n",
      "love\n",
      "loveable\n",
      "loveably\n",
      "lovebird\n",
      "lovebirds\n",
      "loved\n",
      "loveless\n",
      "lovelier\n",
      "lovelies\n",
      "loveliest\n",
      "lovelily\n",
      "loveliness\n",
      "lovelinesses\n",
      "lovelock\n",
      "lovelocks\n",
      "lovelorn\n",
      "lovely\n",
      "lover\n",
      "loverly\n",
      "lovers\n",
      "loves\n",
      "lovesick\n",
      "lovesome\n",
      "lovevine\n",
      "lovevines\n",
      "outlove\n",
      "outloved\n",
      "outloves\n",
      "overlove\n",
      "overloved\n",
      "overloves\n",
      "plover\n",
      "plovers\n",
      "pullover\n",
      "pullovers\n",
      "rollover\n",
      "rollovers\n",
      "sloven\n",
      "slovenlier\n",
      "slovenliest\n",
      "slovenly\n",
      "slovens\n",
      "truelove\n",
      "trueloves\n",
      "unglove\n",
      "ungloved\n",
      "ungloves\n",
      "unloved\n",
      "unlovelier\n",
      "unloveliest\n",
      "unlovely\n"
     ]
    }
   ],
   "source": [
    "substring = input(\"Enter a substring: \")\n",
    "\n",
    "# Find all words that contain the given substring\n",
    "matching_words = [word for word in lines if substring in word]\n",
    "\n",
    "# Print the result\n",
    "print(f\"The words that contain the substring '{substring}' are:\")\n",
    "for word in matching_words:\n",
    "    print(word)"
   ]
  },
  {
   "cell_type": "code",
   "execution_count": 14,
   "metadata": {},
   "outputs": [
    {
     "name": "stdout",
     "output_type": "stream",
     "text": [
      "Enter a word: level\n",
      "The word is a palindrome\n"
     ]
    }
   ],
   "source": [
    "word = input(\"Enter a word: \")\n",
    "if word == word[::-1]:\n",
    "    print(\"The word is a palindrome\")\n",
    "else:\n",
    "    print(\"The word is not a palindrome\")"
   ]
  },
  {
   "cell_type": "code",
   "execution_count": null,
   "metadata": {},
   "outputs": [],
   "source": []
  }
 ],
 "metadata": {
  "kernelspec": {
   "display_name": "Python 3",
   "language": "python",
   "name": "python3"
  },
  "language_info": {
   "codemirror_mode": {
    "name": "ipython",
    "version": 3
   },
   "file_extension": ".py",
   "mimetype": "text/x-python",
   "name": "python",
   "nbconvert_exporter": "python",
   "pygments_lexer": "ipython3",
   "version": "3.7.0"
  }
 },
 "nbformat": 4,
 "nbformat_minor": 2
}
