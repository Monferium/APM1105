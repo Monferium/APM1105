{
 "cells": [
  {
   "cell_type": "markdown",
   "metadata": {},
   "source": [
    "### You can import the words.txt list using requests module by using the following code: "
   ]
  },
  {
   "cell_type": "code",
   "execution_count": 1,
   "metadata": {},
   "outputs": [
    {
     "name": "stdout",
     "output_type": "stream",
     "text": [
      "Dataset saved to file.\n"
     ]
    }
   ],
   "source": [
    "import requests\n",
    "\n",
    "# URL of the raw dataset file on GitHub\n",
    "url = 'https://raw.githubusercontent.com/AllenDowney/ThinkPython2/master/code/words.txt'\n",
    "\n",
    "# Send a GET request to the URL\n",
    "response = requests.get(url)\n",
    "\n",
    "# Check if the request was successful\n",
    "if response.status_code == 200:\n",
    "    # Save the content of the response to a file\n",
    "    with open('words.txt', 'wb') as f:\n",
    "        f.write(response.content)\n",
    "        print('Dataset saved to file.')\n",
    "else:\n",
    "    print('Failed to download dataset.')"
   ]
  },
  {
   "cell_type": "code",
   "execution_count": 2,
   "metadata": {
    "scrolled": true
   },
   "outputs": [],
   "source": [
    "if response.status_code == 200:\n",
    "    # Decode the binary content into a string using UTF-8 encoding\n",
    "    content_str = response.content.decode('utf-8')\n",
    "    # Split the string into a list of lines using the splitlines() method\n",
    "    lines = content_str.splitlines()"
   ]
  },
  {
   "cell_type": "markdown",
   "metadata": {},
   "source": [
    "#### A. Print the total number of words in the file."
   ]
  },
  {
   "cell_type": "code",
   "execution_count": 3,
   "metadata": {
    "scrolled": true
   },
   "outputs": [
    {
     "name": "stdout",
     "output_type": "stream",
     "text": [
      "Found 113783 words in the lines list that are in the words_to_search list.\n"
     ]
    }
   ],
   "source": [
    "# Count the number of words in the lines list that are in the words_to_search list\n",
    "count = sum(1 for word in lines if word.strip() in lines)\n",
    "print(f\"Found {count} words in the lines list that are in the words_to_search list.\")"
   ]
  },
  {
   "cell_type": "markdown",
   "metadata": {},
   "source": [
    "#### B. Print the longest word in the file."
   ]
  },
  {
   "cell_type": "code",
   "execution_count": 4,
   "metadata": {},
   "outputs": [
    {
     "name": "stdout",
     "output_type": "stream",
     "text": [
      "The longest words are: ['counterdemonstrations', 'hyperaggressivenesses', 'microminiaturizations']\n"
     ]
    }
   ],
   "source": [
    "# Find the length of each word and return the maximum length\n",
    "max_length = max(len(word) for word in lines)\n",
    "\n",
    "# Find all words that have the maximum length\n",
    "longest_words = [word for word in lines if len(word) == max_length]\n",
    "\n",
    "print(f\"The longest words are: {longest_words}\")"
   ]
  },
  {
   "cell_type": "markdown",
   "metadata": {},
   "source": [
    "#### C. Print the number of words that start with a certain letter (use user input)."
   ]
  },
  {
   "cell_type": "code",
   "execution_count": 5,
   "metadata": {},
   "outputs": [
    {
     "name": "stdout",
     "output_type": "stream",
     "text": [
      "Enter a letter: r\n",
      "There are 7141 words that start with the letter 'r'.\n"
     ]
    }
   ],
   "source": [
    "# Ask the user to enter a letter\n",
    "letter = input(\"Enter a letter: \")\n",
    "\n",
    "# Count the number of words that start with the given letter\n",
    "count = sum(1 for word in lines if word.startswith(letter))\n",
    "\n",
    "# Print the result\n",
    "print(f\"There are {count} words that start with the letter '{letter}'.\")"
   ]
  },
  {
   "cell_type": "markdown",
   "metadata": {},
   "source": [
    "#### D. Print all the words that contain a certain substring (use user input)."
   ]
  },
  {
   "cell_type": "code",
   "execution_count": 6,
   "metadata": {},
   "outputs": [
    {
     "name": "stdout",
     "output_type": "stream",
     "text": [
      "Enter a substring: love\n",
      "The words that contain the substring 'love' are:\n",
      "allover\n",
      "allovers\n",
      "beloved\n",
      "beloveds\n",
      "clove\n",
      "cloven\n",
      "clover\n",
      "clovers\n",
      "cloves\n",
      "foxglove\n",
      "foxgloves\n",
      "glove\n",
      "gloved\n",
      "glover\n",
      "glovers\n",
      "gloves\n",
      "ladylove\n",
      "ladyloves\n",
      "love\n",
      "loveable\n",
      "loveably\n",
      "lovebird\n",
      "lovebirds\n",
      "loved\n",
      "loveless\n",
      "lovelier\n",
      "lovelies\n",
      "loveliest\n",
      "lovelily\n",
      "loveliness\n",
      "lovelinesses\n",
      "lovelock\n",
      "lovelocks\n",
      "lovelorn\n",
      "lovely\n",
      "lover\n",
      "loverly\n",
      "lovers\n",
      "loves\n",
      "lovesick\n",
      "lovesome\n",
      "lovevine\n",
      "lovevines\n",
      "outlove\n",
      "outloved\n",
      "outloves\n",
      "overlove\n",
      "overloved\n",
      "overloves\n",
      "plover\n",
      "plovers\n",
      "pullover\n",
      "pullovers\n",
      "rollover\n",
      "rollovers\n",
      "sloven\n",
      "slovenlier\n",
      "slovenliest\n",
      "slovenly\n",
      "slovens\n",
      "truelove\n",
      "trueloves\n",
      "unglove\n",
      "ungloved\n",
      "ungloves\n",
      "unloved\n",
      "unlovelier\n",
      "unloveliest\n",
      "unlovely\n"
     ]
    }
   ],
   "source": [
    "substring = input(\"Enter a substring: \")\n",
    "\n",
    "# Find all words that contain the given substring\n",
    "matching_words = [word for word in lines if substring in word]\n",
    "\n",
    "# Print the result\n",
    "print(f\"The words that contain the substring '{substring}' are:\")\n",
    "for word in matching_words:\n",
    "    print(word)"
   ]
  },
  {
   "cell_type": "markdown",
   "metadata": {},
   "source": [
    "#### E. Print all the words that are palindromes (i.e., read the same backwards and forwards)."
   ]
  },
  {
   "cell_type": "code",
   "execution_count": 9,
   "metadata": {},
   "outputs": [
    {
     "name": "stdout",
     "output_type": "stream",
     "text": [
      "The palindromes in the list of words are:\n",
      "aa\n",
      "aba\n",
      "aga\n",
      "aha\n",
      "ala\n",
      "alula\n",
      "ama\n",
      "ana\n",
      "anna\n",
      "ava\n",
      "awa\n",
      "bib\n",
      "bob\n",
      "boob\n",
      "bub\n",
      "civic\n",
      "dad\n",
      "deed\n",
      "deified\n",
      "deked\n",
      "deled\n",
      "denned\n",
      "dewed\n",
      "did\n",
      "dud\n",
      "eke\n",
      "eme\n",
      "ere\n",
      "eve\n",
      "ewe\n",
      "eye\n",
      "gag\n",
      "gig\n",
      "hah\n",
      "halalah\n",
      "hallah\n",
      "huh\n",
      "kaiak\n",
      "kayak\n",
      "keek\n",
      "kook\n",
      "level\n",
      "madam\n",
      "marram\n",
      "mem\n",
      "mim\n",
      "minim\n",
      "mom\n",
      "mum\n",
      "noon\n",
      "nun\n",
      "oho\n",
      "otto\n",
      "pap\n",
      "peep\n",
      "pep\n",
      "pip\n",
      "poop\n",
      "pop\n",
      "pup\n",
      "radar\n",
      "redder\n",
      "refer\n",
      "reifier\n",
      "repaper\n",
      "reviver\n",
      "rotator\n",
      "rotor\n",
      "sagas\n",
      "sees\n",
      "selles\n",
      "sememes\n",
      "semes\n",
      "seres\n",
      "sexes\n",
      "shahs\n",
      "sis\n",
      "solos\n",
      "sos\n",
      "stets\n",
      "tat\n",
      "tenet\n",
      "terret\n",
      "tit\n",
      "toot\n",
      "tot\n",
      "tut\n",
      "vav\n",
      "waw\n",
      "wow\n",
      "yay\n"
     ]
    }
   ],
   "source": [
    "# Define a function to check if a word is a palindrome\n",
    "def is_palindrome(word):\n",
    "    return word == word[::-1]\n",
    "\n",
    "# Find all palindromes in the list of words\n",
    "palindromes = [word for word in lines if is_palindrome(word)]\n",
    "\n",
    "# Print the result\n",
    "print(\"The palindromes in the list of words are:\")\n",
    "for palindrome in palindromes:\n",
    "    print(palindrome)"
   ]
  },
  {
   "cell_type": "markdown",
   "metadata": {},
   "source": [
    "#### F. Count the frequency of each letter. "
   ]
  },
  {
   "cell_type": "code",
   "execution_count": 15,
   "metadata": {},
   "outputs": [
    {
     "name": "stdout",
     "output_type": "stream",
     "text": [
      "Unsorted Letter frequencies:\n",
      "a: 68574\n",
      "h: 20186\n",
      "e: 106752\n",
      "d: 34548\n",
      "i: 77392\n",
      "n: 60505\n",
      "g: 27832\n",
      "s: 86526\n",
      "l: 47003\n",
      "r: 64963\n",
      "v: 9186\n",
      "k: 9366\n",
      "w: 8533\n",
      "o: 54538\n",
      "f: 12706\n",
      "b: 17794\n",
      "c: 34281\n",
      "u: 31151\n",
      "t: 57029\n",
      "m: 24739\n",
      "p: 25789\n",
      "y: 13473\n",
      "x: 2700\n",
      "j: 1780\n",
      "z: 3750\n",
      "q: 1632\n"
     ]
    }
   ],
   "source": [
    "# Convert the words to lowercase\n",
    "words = [word.lower() for word in lines]\n",
    "\n",
    "# Initialize an empty dictionary to store the letter frequencies\n",
    "freq_dict = {}\n",
    "\n",
    "# Iterate over each word in the list\n",
    "for word in words:\n",
    "    # Iterate over each character in the word\n",
    "    for char in word:\n",
    "        # Check if the character is a letter\n",
    "        if char.isalpha():\n",
    "            # Add the letter to the dictionary if it doesn't exist yet\n",
    "            if char not in freq_dict:\n",
    "                freq_dict[char] = 1\n",
    "            # Increment the count for the letter if it already exists in the dictionary\n",
    "            else:\n",
    "                freq_dict[char] += 1\n",
    "\n",
    "# Print the result\n",
    "print(\"Unsorted Letter frequencies:\")\n",
    "for letter, count in freq_dict.items():\n",
    "    print(f\"{letter}: {count}\")"
   ]
  },
  {
   "cell_type": "code",
   "execution_count": 14,
   "metadata": {},
   "outputs": [
    {
     "name": "stdout",
     "output_type": "stream",
     "text": [
      "Letter frequencies:\n",
      "a: 68574\n",
      "b: 17794\n",
      "c: 34281\n",
      "d: 34548\n",
      "e: 106752\n",
      "f: 12706\n",
      "g: 27832\n",
      "h: 20186\n",
      "i: 77392\n",
      "j: 1780\n",
      "k: 9366\n",
      "l: 47003\n",
      "m: 24739\n",
      "n: 60505\n",
      "o: 54538\n",
      "p: 25789\n",
      "q: 1632\n",
      "r: 64963\n",
      "s: 86526\n",
      "t: 57029\n",
      "u: 31151\n",
      "v: 9186\n",
      "w: 8533\n",
      "x: 2700\n",
      "y: 13473\n",
      "z: 3750\n"
     ]
    }
   ],
   "source": [
    "# Sort the dictionary by keys in alphabetical order\n",
    "freq_dict = {k: v for k, v in sorted(freq_dict.items(), key=lambda item: item[0])}\n",
    "\n",
    "# Print the result\n",
    "print(\"Letter frequencies:\")\n",
    "for letter, count in freq_dict.items():\n",
    "    print(f\"{letter}: {count}\")"
   ]
  }
 ],
 "metadata": {
  "kernelspec": {
   "display_name": "Python 3",
   "language": "python",
   "name": "python3"
  },
  "language_info": {
   "codemirror_mode": {
    "name": "ipython",
    "version": 3
   },
   "file_extension": ".py",
   "mimetype": "text/x-python",
   "name": "python",
   "nbconvert_exporter": "python",
   "pygments_lexer": "ipython3",
   "version": "3.7.0"
  }
 },
 "nbformat": 4,
 "nbformat_minor": 2
}
